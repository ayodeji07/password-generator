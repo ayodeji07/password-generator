{
 "cells": [
  {
   "cell_type": "code",
   "execution_count": 1,
   "id": "2aa90ae5",
   "metadata": {},
   "outputs": [],
   "source": [
    "import random\n",
    "import string"
   ]
  },
  {
   "cell_type": "code",
   "execution_count": 2,
   "id": "71974d20",
   "metadata": {},
   "outputs": [],
   "source": [
    "# Generates Password\n",
    "def generate_password(letters_count, numbers_characters_count):\n",
    "    letters = ''.join((random.choice(string.ascii_letters) for i in  range(letters_count)))\n",
    "    numbers_characters = string.digits + string.punctuation\n",
    "    numbers_characters = ''.join(random.choice(numbers_characters) for i in range(numbers_characters_count))\n",
    "                                         \n",
    "    sample_list = list(letters + numbers_characters)\n",
    "    random.shuffle(sample_list)\n",
    "    \n",
    "    password = ''.join(sample_list)\n",
    "    return password\n"
   ]
  },
  {
   "cell_type": "code",
   "execution_count": 3,
   "id": "017f7017",
   "metadata": {},
   "outputs": [
    {
     "name": "stdout",
     "output_type": "stream",
     "text": [
      "length of password: 12\n",
      "how many letters do you want in your password: 8\n",
      "Your password is: 7Z;\\A5qwQzvG\n"
     ]
    }
   ],
   "source": [
    "# Accept password length from user\n",
    "password_length = int(input(\"Length of password: \"))\n",
    "if password_length < 8:\n",
    "    print(\"Password length should be minimum of eight(8)\")\n",
    "    password_length = int(input(\"Length of password: \"))\n",
    "else:\n",
    "    # Accept length of letters from user\n",
    "    letters_count = int(input(\"How many letters do you want in your password: \"))\n",
    "    numbers_characters_count = password_length - letters_count\n",
    "    \n",
    "# Call generate password function\n",
    "password = generate_password(letters_count, numbers_characters_count)\n",
    "                             \n",
    "# Print generated password\n",
    "print(f\"Your password is: {password}\")"
   ]
  },
  {
   "cell_type": "code",
   "execution_count": null,
   "id": "8158ef6f",
   "metadata": {},
   "outputs": [],
   "source": []
  }
 ],
 "metadata": {
  "kernelspec": {
   "display_name": "Python 3",
   "language": "python",
   "name": "python3"
  },
  "language_info": {
   "codemirror_mode": {
    "name": "ipython",
    "version": 3
   },
   "file_extension": ".py",
   "mimetype": "text/x-python",
   "name": "python",
   "nbconvert_exporter": "python",
   "pygments_lexer": "ipython3",
   "version": "3.8.8"
  }
 },
 "nbformat": 4,
 "nbformat_minor": 5
}
